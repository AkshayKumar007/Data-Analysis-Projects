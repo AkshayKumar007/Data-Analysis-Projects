{
 "cells": [
  {
   "cell_type": "markdown",
   "metadata": {},
   "source": [
    "# Ford GoBike System Data (Year-2019)\n",
    "## by *Akshay Kumar*\n",
    "\n",
    "\n",
    "## Table of Contents\n",
    "1. [Introduction](#intro)\n",
    "2. [Preliminary Wrangling](#prelims)\n",
    "    - [2.1. Gathering Data](#gather)\n",
    "    - [2.2. Assessment of Data](#assess)\n",
    "    - [2.3. Data Cleaning and Transformation](#clean)\n",
    "3. [Exploration](#explore)\n",
    "    - [3.1. Univariate Exploration](#uni)\n",
    "    - [3.2. - Bivariate Exploration](#bi)\n",
    "    - [3.3. Multivariate Exploration](#multi)\n"
   ]
  },
  {
   "cell_type": "markdown",
   "metadata": {},
   "source": [
    "<a id='intro'></a>\n",
    "# 1.  Introduction\n",
    "\n",
    "> About the Dataset:\n",
    "- Bay Wheels(previously known as Ford GoBike) is a regional public bicycle sharing system in the San Francisco Bay Area, California operated by Motivate in a partnership with the Metropolitan Transportation Commission and the Bay Area Air Quality Management District.\n",
    "- This dataset includes information ragarding various bike rides made using this bike-sharing system in Bay area, San Francisco in the year 2019."
   ]
  },
  {
   "cell_type": "markdown",
   "metadata": {},
   "source": [
    "<a id='prelims'></a>\n",
    "# 2. Preliminary Wrangling\n",
    "This section explores the Ford GoBike System dataset for year 2019 containing data of 2,407,259 bike rides."
   ]
  },
  {
   "cell_type": "markdown",
   "metadata": {},
   "source": [
    "<a id='gather'></a>\n",
    "## 2.1. Gathering Data"
   ]
  },
  {
   "cell_type": "code",
   "execution_count": 1,
   "metadata": {},
   "outputs": [],
   "source": [
    "# import all packages and set plots to be embedded inline\n",
    "import numpy as np\n",
    "import pandas as pd\n",
    "import matplotlib.pyplot as plt\n",
    "import seaborn as sb\n",
    "import os\n",
    "\n",
    "%matplotlib inline"
   ]
  },
  {
   "cell_type": "markdown",
   "metadata": {},
   "source": [
    "I'm running Linux. So path is seperated by '/'(forward slash).\n",
    "\n",
    "```path = r'~/absolute/path/to/csv_directory'```\n",
    "\n",
    "```file_list = glob.glob(os.path.join(path, \"*.csv\"))```\n",
    "\n",
    "```df = pd.concat((pd.read_csv(file) for file in file_list), ignore_index = True)```\n",
    "\n",
    "```df.to_csv('master_dataset.csv', index = False)```"
   ]
  },
  {
   "cell_type": "code",
   "execution_count": 2,
   "metadata": {},
   "outputs": [],
   "source": [
    "# loading dataset\n",
    "df = pd.read_csv('master_dataset.csv')"
   ]
  },
  {
   "cell_type": "markdown",
   "metadata": {},
   "source": [
    "<a id='assess'></a>\n",
    "## 2.2. Assessmant of Data"
   ]
  },
  {
   "cell_type": "code",
   "execution_count": 3,
   "metadata": {},
   "outputs": [
    {
     "data": {
      "text/html": [
       "<div>\n",
       "<style scoped>\n",
       "    .dataframe tbody tr th:only-of-type {\n",
       "        vertical-align: middle;\n",
       "    }\n",
       "\n",
       "    .dataframe tbody tr th {\n",
       "        vertical-align: top;\n",
       "    }\n",
       "\n",
       "    .dataframe thead th {\n",
       "        text-align: right;\n",
       "    }\n",
       "</style>\n",
       "<table border=\"1\" class=\"dataframe\">\n",
       "  <thead>\n",
       "    <tr style=\"text-align: right;\">\n",
       "      <th></th>\n",
       "      <th>duration_sec</th>\n",
       "      <th>start_time</th>\n",
       "      <th>end_time</th>\n",
       "      <th>start_station_id</th>\n",
       "      <th>start_station_name</th>\n",
       "      <th>start_station_latitude</th>\n",
       "      <th>start_station_longitude</th>\n",
       "      <th>end_station_id</th>\n",
       "      <th>end_station_name</th>\n",
       "      <th>end_station_latitude</th>\n",
       "      <th>end_station_longitude</th>\n",
       "      <th>bike_id</th>\n",
       "      <th>user_type</th>\n",
       "    </tr>\n",
       "  </thead>\n",
       "  <tbody>\n",
       "    <tr>\n",
       "      <th>0</th>\n",
       "      <td>81695</td>\n",
       "      <td>2019-06-30 18:16:09.773</td>\n",
       "      <td>2019-07-01 16:57:45.592</td>\n",
       "      <td>109.0</td>\n",
       "      <td>17th St at Valencia St</td>\n",
       "      <td>37.763316</td>\n",
       "      <td>-122.421904</td>\n",
       "      <td>56.0</td>\n",
       "      <td>Koshland Park</td>\n",
       "      <td>37.773414</td>\n",
       "      <td>-122.427317</td>\n",
       "      <td>1502</td>\n",
       "      <td>Subscriber</td>\n",
       "    </tr>\n",
       "    <tr>\n",
       "      <th>1</th>\n",
       "      <td>74260</td>\n",
       "      <td>2019-06-30 18:09:55.830</td>\n",
       "      <td>2019-07-01 14:47:36.681</td>\n",
       "      <td>50.0</td>\n",
       "      <td>2nd St at Townsend St</td>\n",
       "      <td>37.780526</td>\n",
       "      <td>-122.390288</td>\n",
       "      <td>101.0</td>\n",
       "      <td>15th St at Potrero Ave</td>\n",
       "      <td>37.767079</td>\n",
       "      <td>-122.407359</td>\n",
       "      <td>2526</td>\n",
       "      <td>Customer</td>\n",
       "    </tr>\n",
       "    <tr>\n",
       "      <th>2</th>\n",
       "      <td>59603</td>\n",
       "      <td>2019-06-30 15:40:31.038</td>\n",
       "      <td>2019-07-01 08:13:54.349</td>\n",
       "      <td>23.0</td>\n",
       "      <td>The Embarcadero at Steuart St</td>\n",
       "      <td>37.791464</td>\n",
       "      <td>-122.391034</td>\n",
       "      <td>30.0</td>\n",
       "      <td>San Francisco Caltrain (Townsend St at 4th St)</td>\n",
       "      <td>37.776598</td>\n",
       "      <td>-122.395282</td>\n",
       "      <td>2427</td>\n",
       "      <td>Subscriber</td>\n",
       "    </tr>\n",
       "    <tr>\n",
       "      <th>3</th>\n",
       "      <td>67932</td>\n",
       "      <td>2019-06-30 12:49:47.781</td>\n",
       "      <td>2019-07-01 07:42:00.543</td>\n",
       "      <td>169.0</td>\n",
       "      <td>Bushrod Park</td>\n",
       "      <td>37.846516</td>\n",
       "      <td>-122.265304</td>\n",
       "      <td>248.0</td>\n",
       "      <td>Telegraph Ave at Ashby Ave</td>\n",
       "      <td>37.855956</td>\n",
       "      <td>-122.259795</td>\n",
       "      <td>1261</td>\n",
       "      <td>Customer</td>\n",
       "    </tr>\n",
       "    <tr>\n",
       "      <th>4</th>\n",
       "      <td>48894</td>\n",
       "      <td>2019-06-30 17:21:00.055</td>\n",
       "      <td>2019-07-01 06:55:54.996</td>\n",
       "      <td>15.0</td>\n",
       "      <td>San Francisco Ferry Building (Harry Bridges Pl...</td>\n",
       "      <td>37.795392</td>\n",
       "      <td>-122.394203</td>\n",
       "      <td>30.0</td>\n",
       "      <td>San Francisco Caltrain (Townsend St at 4th St)</td>\n",
       "      <td>37.776598</td>\n",
       "      <td>-122.395282</td>\n",
       "      <td>1070</td>\n",
       "      <td>Customer</td>\n",
       "    </tr>\n",
       "    <tr>\n",
       "      <th>5</th>\n",
       "      <td>47409</td>\n",
       "      <td>2019-06-30 16:47:22.329</td>\n",
       "      <td>2019-07-01 05:57:32.072</td>\n",
       "      <td>340.0</td>\n",
       "      <td>Harmon St at Adeline St</td>\n",
       "      <td>37.849735</td>\n",
       "      <td>-122.270582</td>\n",
       "      <td>189.0</td>\n",
       "      <td>Genoa St at 55th St</td>\n",
       "      <td>37.839649</td>\n",
       "      <td>-122.271756</td>\n",
       "      <td>2966</td>\n",
       "      <td>Subscriber</td>\n",
       "    </tr>\n",
       "    <tr>\n",
       "      <th>6</th>\n",
       "      <td>37282</td>\n",
       "      <td>2019-06-30 14:31:39.573</td>\n",
       "      <td>2019-07-01 00:53:02.252</td>\n",
       "      <td>6.0</td>\n",
       "      <td>The Embarcadero at Sansome St</td>\n",
       "      <td>37.804770</td>\n",
       "      <td>-122.403234</td>\n",
       "      <td>400.0</td>\n",
       "      <td>Buchanan St at North Point St</td>\n",
       "      <td>37.804272</td>\n",
       "      <td>-122.433537</td>\n",
       "      <td>1980</td>\n",
       "      <td>Customer</td>\n",
       "    </tr>\n",
       "    <tr>\n",
       "      <th>7</th>\n",
       "      <td>11105</td>\n",
       "      <td>2019-06-30 21:28:07.304</td>\n",
       "      <td>2019-07-01 00:33:12.624</td>\n",
       "      <td>377.0</td>\n",
       "      <td>Fell St at Stanyan St</td>\n",
       "      <td>37.771917</td>\n",
       "      <td>-122.453704</td>\n",
       "      <td>380.0</td>\n",
       "      <td>Masonic Ave at Turk St</td>\n",
       "      <td>37.779047</td>\n",
       "      <td>-122.447291</td>\n",
       "      <td>3515</td>\n",
       "      <td>Subscriber</td>\n",
       "    </tr>\n",
       "    <tr>\n",
       "      <th>8</th>\n",
       "      <td>27656</td>\n",
       "      <td>2019-06-30 16:50:35.490</td>\n",
       "      <td>2019-07-01 00:31:32.438</td>\n",
       "      <td>24.0</td>\n",
       "      <td>Spear St at Folsom St</td>\n",
       "      <td>37.789677</td>\n",
       "      <td>-122.390428</td>\n",
       "      <td>370.0</td>\n",
       "      <td>Jones St at Post St</td>\n",
       "      <td>37.787327</td>\n",
       "      <td>-122.413278</td>\n",
       "      <td>1836</td>\n",
       "      <td>Customer</td>\n",
       "    </tr>\n",
       "    <tr>\n",
       "      <th>9</th>\n",
       "      <td>1942</td>\n",
       "      <td>2019-06-30 23:48:21.581</td>\n",
       "      <td>2019-07-01 00:20:44.449</td>\n",
       "      <td>3.0</td>\n",
       "      <td>Powell St BART Station (Market St at 4th St)</td>\n",
       "      <td>37.786375</td>\n",
       "      <td>-122.404904</td>\n",
       "      <td>16.0</td>\n",
       "      <td>Steuart St at Market St</td>\n",
       "      <td>37.794130</td>\n",
       "      <td>-122.394430</td>\n",
       "      <td>1055</td>\n",
       "      <td>Customer</td>\n",
       "    </tr>\n",
       "  </tbody>\n",
       "</table>\n",
       "</div>"
      ],
      "text/plain": [
       "   duration_sec               start_time                 end_time  \\\n",
       "0         81695  2019-06-30 18:16:09.773  2019-07-01 16:57:45.592   \n",
       "1         74260  2019-06-30 18:09:55.830  2019-07-01 14:47:36.681   \n",
       "2         59603  2019-06-30 15:40:31.038  2019-07-01 08:13:54.349   \n",
       "3         67932  2019-06-30 12:49:47.781  2019-07-01 07:42:00.543   \n",
       "4         48894  2019-06-30 17:21:00.055  2019-07-01 06:55:54.996   \n",
       "5         47409  2019-06-30 16:47:22.329  2019-07-01 05:57:32.072   \n",
       "6         37282  2019-06-30 14:31:39.573  2019-07-01 00:53:02.252   \n",
       "7         11105  2019-06-30 21:28:07.304  2019-07-01 00:33:12.624   \n",
       "8         27656  2019-06-30 16:50:35.490  2019-07-01 00:31:32.438   \n",
       "9          1942  2019-06-30 23:48:21.581  2019-07-01 00:20:44.449   \n",
       "\n",
       "   start_station_id                                 start_station_name  \\\n",
       "0             109.0                             17th St at Valencia St   \n",
       "1              50.0                              2nd St at Townsend St   \n",
       "2              23.0                      The Embarcadero at Steuart St   \n",
       "3             169.0                                       Bushrod Park   \n",
       "4              15.0  San Francisco Ferry Building (Harry Bridges Pl...   \n",
       "5             340.0                            Harmon St at Adeline St   \n",
       "6               6.0                      The Embarcadero at Sansome St   \n",
       "7             377.0                              Fell St at Stanyan St   \n",
       "8              24.0                              Spear St at Folsom St   \n",
       "9               3.0       Powell St BART Station (Market St at 4th St)   \n",
       "\n",
       "   start_station_latitude  start_station_longitude  end_station_id  \\\n",
       "0               37.763316              -122.421904            56.0   \n",
       "1               37.780526              -122.390288           101.0   \n",
       "2               37.791464              -122.391034            30.0   \n",
       "3               37.846516              -122.265304           248.0   \n",
       "4               37.795392              -122.394203            30.0   \n",
       "5               37.849735              -122.270582           189.0   \n",
       "6               37.804770              -122.403234           400.0   \n",
       "7               37.771917              -122.453704           380.0   \n",
       "8               37.789677              -122.390428           370.0   \n",
       "9               37.786375              -122.404904            16.0   \n",
       "\n",
       "                                 end_station_name  end_station_latitude  \\\n",
       "0                                   Koshland Park             37.773414   \n",
       "1                          15th St at Potrero Ave             37.767079   \n",
       "2  San Francisco Caltrain (Townsend St at 4th St)             37.776598   \n",
       "3                      Telegraph Ave at Ashby Ave             37.855956   \n",
       "4  San Francisco Caltrain (Townsend St at 4th St)             37.776598   \n",
       "5                             Genoa St at 55th St             37.839649   \n",
       "6                   Buchanan St at North Point St             37.804272   \n",
       "7                          Masonic Ave at Turk St             37.779047   \n",
       "8                             Jones St at Post St             37.787327   \n",
       "9                         Steuart St at Market St             37.794130   \n",
       "\n",
       "   end_station_longitude  bike_id   user_type  \n",
       "0            -122.427317     1502  Subscriber  \n",
       "1            -122.407359     2526    Customer  \n",
       "2            -122.395282     2427  Subscriber  \n",
       "3            -122.259795     1261    Customer  \n",
       "4            -122.395282     1070    Customer  \n",
       "5            -122.271756     2966  Subscriber  \n",
       "6            -122.433537     1980    Customer  \n",
       "7            -122.447291     3515  Subscriber  \n",
       "8            -122.413278     1836    Customer  \n",
       "9            -122.394430     1055    Customer  "
      ]
     },
     "execution_count": 3,
     "metadata": {},
     "output_type": "execute_result"
    }
   ],
   "source": [
    "# check first 10 rows\n",
    "df.head(10)"
   ]
  },
  {
   "cell_type": "code",
   "execution_count": 4,
   "metadata": {},
   "outputs": [
    {
     "data": {
      "text/html": [
       "<div>\n",
       "<style scoped>\n",
       "    .dataframe tbody tr th:only-of-type {\n",
       "        vertical-align: middle;\n",
       "    }\n",
       "\n",
       "    .dataframe tbody tr th {\n",
       "        vertical-align: top;\n",
       "    }\n",
       "\n",
       "    .dataframe thead th {\n",
       "        text-align: right;\n",
       "    }\n",
       "</style>\n",
       "<table border=\"1\" class=\"dataframe\">\n",
       "  <thead>\n",
       "    <tr style=\"text-align: right;\">\n",
       "      <th></th>\n",
       "      <th>duration_sec</th>\n",
       "      <th>start_time</th>\n",
       "      <th>end_time</th>\n",
       "      <th>start_station_id</th>\n",
       "      <th>start_station_name</th>\n",
       "      <th>start_station_latitude</th>\n",
       "      <th>start_station_longitude</th>\n",
       "      <th>end_station_id</th>\n",
       "      <th>end_station_name</th>\n",
       "      <th>end_station_latitude</th>\n",
       "      <th>end_station_longitude</th>\n",
       "      <th>bike_id</th>\n",
       "      <th>user_type</th>\n",
       "    </tr>\n",
       "  </thead>\n",
       "  <tbody>\n",
       "    <tr>\n",
       "      <th>2004007</th>\n",
       "      <td>2021</td>\n",
       "      <td>2019-03-01 19:41:00.248</td>\n",
       "      <td>2019-03-01 20:14:41.455</td>\n",
       "      <td>323.0</td>\n",
       "      <td>Broadway at Kearny</td>\n",
       "      <td>37.798014</td>\n",
       "      <td>-122.405950</td>\n",
       "      <td>13.0</td>\n",
       "      <td>Commercial St at Montgomery St</td>\n",
       "      <td>37.794231</td>\n",
       "      <td>-122.402923</td>\n",
       "      <td>5816</td>\n",
       "      <td>Subscriber</td>\n",
       "    </tr>\n",
       "    <tr>\n",
       "      <th>2403386</th>\n",
       "      <td>809</td>\n",
       "      <td>2019-08-01 15:58:46.844</td>\n",
       "      <td>2019-08-01 16:12:15.984</td>\n",
       "      <td>254.0</td>\n",
       "      <td>Vine St at Shattuck Ave</td>\n",
       "      <td>37.880222</td>\n",
       "      <td>-122.269592</td>\n",
       "      <td>238.0</td>\n",
       "      <td>MLK Jr Way at University Ave</td>\n",
       "      <td>37.871719</td>\n",
       "      <td>-122.273068</td>\n",
       "      <td>477</td>\n",
       "      <td>Subscriber</td>\n",
       "    </tr>\n",
       "    <tr>\n",
       "      <th>596265</th>\n",
       "      <td>469</td>\n",
       "      <td>2019-01-19 15:19:05.253</td>\n",
       "      <td>2019-01-19 15:26:55.203</td>\n",
       "      <td>15.0</td>\n",
       "      <td>San Francisco Ferry Building (Harry Bridges Pl...</td>\n",
       "      <td>37.795392</td>\n",
       "      <td>-122.394203</td>\n",
       "      <td>24.0</td>\n",
       "      <td>Spear St at Folsom St</td>\n",
       "      <td>37.789677</td>\n",
       "      <td>-122.390428</td>\n",
       "      <td>2262</td>\n",
       "      <td>Customer</td>\n",
       "    </tr>\n",
       "    <tr>\n",
       "      <th>2054230</th>\n",
       "      <td>775</td>\n",
       "      <td>2019-11-20 23:19:51.364</td>\n",
       "      <td>2019-11-20 23:32:46.522</td>\n",
       "      <td>336.0</td>\n",
       "      <td>Potrero Ave and Mariposa St</td>\n",
       "      <td>37.763281</td>\n",
       "      <td>-122.407377</td>\n",
       "      <td>127.0</td>\n",
       "      <td>Valencia St at 21st St</td>\n",
       "      <td>37.756708</td>\n",
       "      <td>-122.421025</td>\n",
       "      <td>11622</td>\n",
       "      <td>Customer</td>\n",
       "    </tr>\n",
       "    <tr>\n",
       "      <th>1936790</th>\n",
       "      <td>495</td>\n",
       "      <td>2019-03-11 19:11:18.072</td>\n",
       "      <td>2019-03-11 19:19:33.251</td>\n",
       "      <td>58.0</td>\n",
       "      <td>Market St at 10th St</td>\n",
       "      <td>37.776619</td>\n",
       "      <td>-122.417385</td>\n",
       "      <td>67.0</td>\n",
       "      <td>San Francisco Caltrain Station 2  (Townsend St...</td>\n",
       "      <td>37.776639</td>\n",
       "      <td>-122.395526</td>\n",
       "      <td>5973</td>\n",
       "      <td>Subscriber</td>\n",
       "    </tr>\n",
       "    <tr>\n",
       "      <th>832918</th>\n",
       "      <td>1805</td>\n",
       "      <td>2019-02-07 21:44:26.947</td>\n",
       "      <td>2019-02-07 22:14:32.716</td>\n",
       "      <td>74.0</td>\n",
       "      <td>Laguna St at Hayes St</td>\n",
       "      <td>37.776435</td>\n",
       "      <td>-122.426244</td>\n",
       "      <td>223.0</td>\n",
       "      <td>16th St Mission BART Station 2</td>\n",
       "      <td>37.764765</td>\n",
       "      <td>-122.420091</td>\n",
       "      <td>4803</td>\n",
       "      <td>Customer</td>\n",
       "    </tr>\n",
       "    <tr>\n",
       "      <th>278203</th>\n",
       "      <td>522</td>\n",
       "      <td>2019-07-15 17:46:25.400</td>\n",
       "      <td>2019-07-15 17:55:08.106</td>\n",
       "      <td>58.0</td>\n",
       "      <td>Market St at 10th St</td>\n",
       "      <td>37.776619</td>\n",
       "      <td>-122.417385</td>\n",
       "      <td>47.0</td>\n",
       "      <td>4th St at Harrison St</td>\n",
       "      <td>37.780955</td>\n",
       "      <td>-122.399749</td>\n",
       "      <td>861</td>\n",
       "      <td>Subscriber</td>\n",
       "    </tr>\n",
       "    <tr>\n",
       "      <th>1471175</th>\n",
       "      <td>1210</td>\n",
       "      <td>2019-04-11 09:09:17.314</td>\n",
       "      <td>2019-04-11 09:29:28.254</td>\n",
       "      <td>136.0</td>\n",
       "      <td>23rd St at San Bruno Ave</td>\n",
       "      <td>37.754436</td>\n",
       "      <td>-122.404364</td>\n",
       "      <td>13.0</td>\n",
       "      <td>Commercial St at Montgomery St</td>\n",
       "      <td>37.794231</td>\n",
       "      <td>-122.402923</td>\n",
       "      <td>6713</td>\n",
       "      <td>Subscriber</td>\n",
       "    </tr>\n",
       "    <tr>\n",
       "      <th>918729</th>\n",
       "      <td>524</td>\n",
       "      <td>2019-09-25 08:58:16.341</td>\n",
       "      <td>2019-09-25 09:07:00.931</td>\n",
       "      <td>3.0</td>\n",
       "      <td>Powell St BART Station (Market St at 4th St)</td>\n",
       "      <td>37.786375</td>\n",
       "      <td>-122.404904</td>\n",
       "      <td>80.0</td>\n",
       "      <td>Townsend St at 5th St</td>\n",
       "      <td>37.775235</td>\n",
       "      <td>-122.397437</td>\n",
       "      <td>11532</td>\n",
       "      <td>Subscriber</td>\n",
       "    </tr>\n",
       "    <tr>\n",
       "      <th>310119</th>\n",
       "      <td>116</td>\n",
       "      <td>2019-07-10 08:44:13.681</td>\n",
       "      <td>2019-07-10 08:46:10.104</td>\n",
       "      <td>16.0</td>\n",
       "      <td>Steuart St at Market St</td>\n",
       "      <td>37.794130</td>\n",
       "      <td>-122.394430</td>\n",
       "      <td>15.0</td>\n",
       "      <td>San Francisco Ferry Building (Harry Bridges Pl...</td>\n",
       "      <td>37.795392</td>\n",
       "      <td>-122.394203</td>\n",
       "      <td>437</td>\n",
       "      <td>Subscriber</td>\n",
       "    </tr>\n",
       "    <tr>\n",
       "      <th>1726665</th>\n",
       "      <td>472</td>\n",
       "      <td>2019-05-05 19:46:54.319</td>\n",
       "      <td>2019-05-05 19:54:46.493</td>\n",
       "      <td>182.0</td>\n",
       "      <td>19th Street BART Station</td>\n",
       "      <td>37.809013</td>\n",
       "      <td>-122.268247</td>\n",
       "      <td>197.0</td>\n",
       "      <td>El Embarcadero at Grand Ave</td>\n",
       "      <td>37.808848</td>\n",
       "      <td>-122.249680</td>\n",
       "      <td>3050</td>\n",
       "      <td>Subscriber</td>\n",
       "    </tr>\n",
       "    <tr>\n",
       "      <th>1914748</th>\n",
       "      <td>172</td>\n",
       "      <td>2019-03-13 20:42:57.659</td>\n",
       "      <td>2019-03-13 20:45:50.301</td>\n",
       "      <td>31.0</td>\n",
       "      <td>Raymond Kimbell Playground</td>\n",
       "      <td>37.783813</td>\n",
       "      <td>-122.434559</td>\n",
       "      <td>39.0</td>\n",
       "      <td>Scott St at Golden Gate Ave</td>\n",
       "      <td>37.778999</td>\n",
       "      <td>-122.436861</td>\n",
       "      <td>6358</td>\n",
       "      <td>Subscriber</td>\n",
       "    </tr>\n",
       "    <tr>\n",
       "      <th>2221830</th>\n",
       "      <td>1348</td>\n",
       "      <td>2019-08-28 08:54:39.551</td>\n",
       "      <td>2019-08-28 09:17:07.744</td>\n",
       "      <td>137.0</td>\n",
       "      <td>Jersey St at Castro St</td>\n",
       "      <td>37.750506</td>\n",
       "      <td>-122.433950</td>\n",
       "      <td>44.0</td>\n",
       "      <td>Civic Center/UN Plaza BART Station (Market St ...</td>\n",
       "      <td>37.781074</td>\n",
       "      <td>-122.411738</td>\n",
       "      <td>3296</td>\n",
       "      <td>Subscriber</td>\n",
       "    </tr>\n",
       "    <tr>\n",
       "      <th>314099</th>\n",
       "      <td>960</td>\n",
       "      <td>2019-07-09 17:20:43.622</td>\n",
       "      <td>2019-07-09 17:36:44.253</td>\n",
       "      <td>243.0</td>\n",
       "      <td>Bancroft Way at College Ave</td>\n",
       "      <td>37.869360</td>\n",
       "      <td>-122.254337</td>\n",
       "      <td>252.0</td>\n",
       "      <td>Channing Way at Shattuck Ave</td>\n",
       "      <td>37.865847</td>\n",
       "      <td>-122.267443</td>\n",
       "      <td>3467</td>\n",
       "      <td>Subscriber</td>\n",
       "    </tr>\n",
       "    <tr>\n",
       "      <th>1103229</th>\n",
       "      <td>217</td>\n",
       "      <td>2019-10-30 23:08:06.833</td>\n",
       "      <td>2019-10-30 23:11:44.618</td>\n",
       "      <td>274.0</td>\n",
       "      <td>Oregon St at Adeline St</td>\n",
       "      <td>37.857567</td>\n",
       "      <td>-122.267558</td>\n",
       "      <td>266.0</td>\n",
       "      <td>Parker St at Fulton St</td>\n",
       "      <td>37.862464</td>\n",
       "      <td>-122.264791</td>\n",
       "      <td>11328</td>\n",
       "      <td>Subscriber</td>\n",
       "    </tr>\n",
       "    <tr>\n",
       "      <th>2153122</th>\n",
       "      <td>1022</td>\n",
       "      <td>2019-11-07 06:35:44.759</td>\n",
       "      <td>2019-11-07 06:52:47.461</td>\n",
       "      <td>70.0</td>\n",
       "      <td>Central Ave at Fell St</td>\n",
       "      <td>37.773311</td>\n",
       "      <td>-122.444293</td>\n",
       "      <td>30.0</td>\n",
       "      <td>San Francisco Caltrain (Townsend St at 4th St)</td>\n",
       "      <td>37.776598</td>\n",
       "      <td>-122.395282</td>\n",
       "      <td>10249</td>\n",
       "      <td>Subscriber</td>\n",
       "    </tr>\n",
       "    <tr>\n",
       "      <th>1613460</th>\n",
       "      <td>322</td>\n",
       "      <td>2019-05-24 18:48:12.719</td>\n",
       "      <td>2019-05-24 18:53:34.928</td>\n",
       "      <td>24.0</td>\n",
       "      <td>Spear St at Folsom St</td>\n",
       "      <td>37.789677</td>\n",
       "      <td>-122.390428</td>\n",
       "      <td>25.0</td>\n",
       "      <td>Howard St at 2nd St</td>\n",
       "      <td>37.786928</td>\n",
       "      <td>-122.398113</td>\n",
       "      <td>3733</td>\n",
       "      <td>Subscriber</td>\n",
       "    </tr>\n",
       "    <tr>\n",
       "      <th>2392282</th>\n",
       "      <td>1320</td>\n",
       "      <td>2019-08-03 09:59:42.302</td>\n",
       "      <td>2019-08-03 10:21:42.415</td>\n",
       "      <td>137.0</td>\n",
       "      <td>Jersey St at Castro St</td>\n",
       "      <td>37.750506</td>\n",
       "      <td>-122.433950</td>\n",
       "      <td>3.0</td>\n",
       "      <td>Powell St BART Station (Market St at 4th St)</td>\n",
       "      <td>37.786375</td>\n",
       "      <td>-122.404904</td>\n",
       "      <td>1506</td>\n",
       "      <td>Customer</td>\n",
       "    </tr>\n",
       "    <tr>\n",
       "      <th>1779301</th>\n",
       "      <td>291</td>\n",
       "      <td>2019-03-29 07:33:06.736</td>\n",
       "      <td>2019-03-29 07:37:57.985</td>\n",
       "      <td>144.0</td>\n",
       "      <td>Precita Park</td>\n",
       "      <td>37.747300</td>\n",
       "      <td>-122.411403</td>\n",
       "      <td>136.0</td>\n",
       "      <td>23rd St at San Bruno Ave</td>\n",
       "      <td>37.754436</td>\n",
       "      <td>-122.404364</td>\n",
       "      <td>4929</td>\n",
       "      <td>Subscriber</td>\n",
       "    </tr>\n",
       "    <tr>\n",
       "      <th>1312237</th>\n",
       "      <td>1340</td>\n",
       "      <td>2019-10-03 14:50:28.964</td>\n",
       "      <td>2019-10-03 15:12:49.650</td>\n",
       "      <td>81.0</td>\n",
       "      <td>Berry St at 4th St</td>\n",
       "      <td>37.775880</td>\n",
       "      <td>-122.393170</td>\n",
       "      <td>116.0</td>\n",
       "      <td>Mississippi St at 17th St</td>\n",
       "      <td>37.764802</td>\n",
       "      <td>-122.394771</td>\n",
       "      <td>1249</td>\n",
       "      <td>Subscriber</td>\n",
       "    </tr>\n",
       "    <tr>\n",
       "      <th>918017</th>\n",
       "      <td>952</td>\n",
       "      <td>2019-09-25 09:31:36.924</td>\n",
       "      <td>2019-09-25 09:47:29.616</td>\n",
       "      <td>411.0</td>\n",
       "      <td>Octavia Blvd at Page St</td>\n",
       "      <td>37.774018</td>\n",
       "      <td>-122.423809</td>\n",
       "      <td>445.0</td>\n",
       "      <td>Natoma St at New Montgomery St</td>\n",
       "      <td>37.786553</td>\n",
       "      <td>-122.399607</td>\n",
       "      <td>3717</td>\n",
       "      <td>Subscriber</td>\n",
       "    </tr>\n",
       "    <tr>\n",
       "      <th>1735994</th>\n",
       "      <td>148</td>\n",
       "      <td>2019-05-03 17:16:00.222</td>\n",
       "      <td>2019-05-03 17:18:28.360</td>\n",
       "      <td>278.0</td>\n",
       "      <td>The Alameda at Bush St</td>\n",
       "      <td>37.331932</td>\n",
       "      <td>-121.904888</td>\n",
       "      <td>277.0</td>\n",
       "      <td>Morrison Ave at Julian St</td>\n",
       "      <td>37.333658</td>\n",
       "      <td>-121.908586</td>\n",
       "      <td>1289</td>\n",
       "      <td>Subscriber</td>\n",
       "    </tr>\n",
       "    <tr>\n",
       "      <th>2350057</th>\n",
       "      <td>510</td>\n",
       "      <td>2019-08-09 16:14:49.416</td>\n",
       "      <td>2019-08-09 16:23:19.618</td>\n",
       "      <td>22.0</td>\n",
       "      <td>Howard St at Beale St</td>\n",
       "      <td>37.789756</td>\n",
       "      <td>-122.394643</td>\n",
       "      <td>19.0</td>\n",
       "      <td>Post St at Kearny St</td>\n",
       "      <td>37.788975</td>\n",
       "      <td>-122.403452</td>\n",
       "      <td>966</td>\n",
       "      <td>Subscriber</td>\n",
       "    </tr>\n",
       "    <tr>\n",
       "      <th>158626</th>\n",
       "      <td>268</td>\n",
       "      <td>2019-06-05 18:37:16.411</td>\n",
       "      <td>2019-06-05 18:41:44.760</td>\n",
       "      <td>350.0</td>\n",
       "      <td>8th St at Brannan St</td>\n",
       "      <td>37.771431</td>\n",
       "      <td>-122.405787</td>\n",
       "      <td>67.0</td>\n",
       "      <td>San Francisco Caltrain Station 2  (Townsend St...</td>\n",
       "      <td>37.776639</td>\n",
       "      <td>-122.395526</td>\n",
       "      <td>2931</td>\n",
       "      <td>Subscriber</td>\n",
       "    </tr>\n",
       "    <tr>\n",
       "      <th>36968</th>\n",
       "      <td>551</td>\n",
       "      <td>2019-06-25 07:52:47.748</td>\n",
       "      <td>2019-06-25 08:01:59.404</td>\n",
       "      <td>23.0</td>\n",
       "      <td>The Embarcadero at Steuart St</td>\n",
       "      <td>37.791464</td>\n",
       "      <td>-122.391034</td>\n",
       "      <td>80.0</td>\n",
       "      <td>Townsend St at 5th St</td>\n",
       "      <td>37.775235</td>\n",
       "      <td>-122.397437</td>\n",
       "      <td>764</td>\n",
       "      <td>Subscriber</td>\n",
       "    </tr>\n",
       "  </tbody>\n",
       "</table>\n",
       "</div>"
      ],
      "text/plain": [
       "         duration_sec               start_time                 end_time  \\\n",
       "2004007          2021  2019-03-01 19:41:00.248  2019-03-01 20:14:41.455   \n",
       "2403386           809  2019-08-01 15:58:46.844  2019-08-01 16:12:15.984   \n",
       "596265            469  2019-01-19 15:19:05.253  2019-01-19 15:26:55.203   \n",
       "2054230           775  2019-11-20 23:19:51.364  2019-11-20 23:32:46.522   \n",
       "1936790           495  2019-03-11 19:11:18.072  2019-03-11 19:19:33.251   \n",
       "832918           1805  2019-02-07 21:44:26.947  2019-02-07 22:14:32.716   \n",
       "278203            522  2019-07-15 17:46:25.400  2019-07-15 17:55:08.106   \n",
       "1471175          1210  2019-04-11 09:09:17.314  2019-04-11 09:29:28.254   \n",
       "918729            524  2019-09-25 08:58:16.341  2019-09-25 09:07:00.931   \n",
       "310119            116  2019-07-10 08:44:13.681  2019-07-10 08:46:10.104   \n",
       "1726665           472  2019-05-05 19:46:54.319  2019-05-05 19:54:46.493   \n",
       "1914748           172  2019-03-13 20:42:57.659  2019-03-13 20:45:50.301   \n",
       "2221830          1348  2019-08-28 08:54:39.551  2019-08-28 09:17:07.744   \n",
       "314099            960  2019-07-09 17:20:43.622  2019-07-09 17:36:44.253   \n",
       "1103229           217  2019-10-30 23:08:06.833  2019-10-30 23:11:44.618   \n",
       "2153122          1022  2019-11-07 06:35:44.759  2019-11-07 06:52:47.461   \n",
       "1613460           322  2019-05-24 18:48:12.719  2019-05-24 18:53:34.928   \n",
       "2392282          1320  2019-08-03 09:59:42.302  2019-08-03 10:21:42.415   \n",
       "1779301           291  2019-03-29 07:33:06.736  2019-03-29 07:37:57.985   \n",
       "1312237          1340  2019-10-03 14:50:28.964  2019-10-03 15:12:49.650   \n",
       "918017            952  2019-09-25 09:31:36.924  2019-09-25 09:47:29.616   \n",
       "1735994           148  2019-05-03 17:16:00.222  2019-05-03 17:18:28.360   \n",
       "2350057           510  2019-08-09 16:14:49.416  2019-08-09 16:23:19.618   \n",
       "158626            268  2019-06-05 18:37:16.411  2019-06-05 18:41:44.760   \n",
       "36968             551  2019-06-25 07:52:47.748  2019-06-25 08:01:59.404   \n",
       "\n",
       "         start_station_id                                 start_station_name  \\\n",
       "2004007             323.0                                 Broadway at Kearny   \n",
       "2403386             254.0                            Vine St at Shattuck Ave   \n",
       "596265               15.0  San Francisco Ferry Building (Harry Bridges Pl...   \n",
       "2054230             336.0                        Potrero Ave and Mariposa St   \n",
       "1936790              58.0                               Market St at 10th St   \n",
       "832918               74.0                              Laguna St at Hayes St   \n",
       "278203               58.0                               Market St at 10th St   \n",
       "1471175             136.0                           23rd St at San Bruno Ave   \n",
       "918729                3.0       Powell St BART Station (Market St at 4th St)   \n",
       "310119               16.0                            Steuart St at Market St   \n",
       "1726665             182.0                           19th Street BART Station   \n",
       "1914748              31.0                         Raymond Kimbell Playground   \n",
       "2221830             137.0                             Jersey St at Castro St   \n",
       "314099              243.0                        Bancroft Way at College Ave   \n",
       "1103229             274.0                            Oregon St at Adeline St   \n",
       "2153122              70.0                             Central Ave at Fell St   \n",
       "1613460              24.0                              Spear St at Folsom St   \n",
       "2392282             137.0                             Jersey St at Castro St   \n",
       "1779301             144.0                                       Precita Park   \n",
       "1312237              81.0                                 Berry St at 4th St   \n",
       "918017              411.0                            Octavia Blvd at Page St   \n",
       "1735994             278.0                             The Alameda at Bush St   \n",
       "2350057              22.0                              Howard St at Beale St   \n",
       "158626              350.0                               8th St at Brannan St   \n",
       "36968                23.0                      The Embarcadero at Steuart St   \n",
       "\n",
       "         start_station_latitude  start_station_longitude  end_station_id  \\\n",
       "2004007               37.798014              -122.405950            13.0   \n",
       "2403386               37.880222              -122.269592           238.0   \n",
       "596265                37.795392              -122.394203            24.0   \n",
       "2054230               37.763281              -122.407377           127.0   \n",
       "1936790               37.776619              -122.417385            67.0   \n",
       "832918                37.776435              -122.426244           223.0   \n",
       "278203                37.776619              -122.417385            47.0   \n",
       "1471175               37.754436              -122.404364            13.0   \n",
       "918729                37.786375              -122.404904            80.0   \n",
       "310119                37.794130              -122.394430            15.0   \n",
       "1726665               37.809013              -122.268247           197.0   \n",
       "1914748               37.783813              -122.434559            39.0   \n",
       "2221830               37.750506              -122.433950            44.0   \n",
       "314099                37.869360              -122.254337           252.0   \n",
       "1103229               37.857567              -122.267558           266.0   \n",
       "2153122               37.773311              -122.444293            30.0   \n",
       "1613460               37.789677              -122.390428            25.0   \n",
       "2392282               37.750506              -122.433950             3.0   \n",
       "1779301               37.747300              -122.411403           136.0   \n",
       "1312237               37.775880              -122.393170           116.0   \n",
       "918017                37.774018              -122.423809           445.0   \n",
       "1735994               37.331932              -121.904888           277.0   \n",
       "2350057               37.789756              -122.394643            19.0   \n",
       "158626                37.771431              -122.405787            67.0   \n",
       "36968                 37.791464              -122.391034            80.0   \n",
       "\n",
       "                                          end_station_name  \\\n",
       "2004007                     Commercial St at Montgomery St   \n",
       "2403386                       MLK Jr Way at University Ave   \n",
       "596265                               Spear St at Folsom St   \n",
       "2054230                             Valencia St at 21st St   \n",
       "1936790  San Francisco Caltrain Station 2  (Townsend St...   \n",
       "832918                      16th St Mission BART Station 2   \n",
       "278203                               4th St at Harrison St   \n",
       "1471175                     Commercial St at Montgomery St   \n",
       "918729                               Townsend St at 5th St   \n",
       "310119   San Francisco Ferry Building (Harry Bridges Pl...   \n",
       "1726665                        El Embarcadero at Grand Ave   \n",
       "1914748                        Scott St at Golden Gate Ave   \n",
       "2221830  Civic Center/UN Plaza BART Station (Market St ...   \n",
       "314099                        Channing Way at Shattuck Ave   \n",
       "1103229                             Parker St at Fulton St   \n",
       "2153122     San Francisco Caltrain (Townsend St at 4th St)   \n",
       "1613460                                Howard St at 2nd St   \n",
       "2392282       Powell St BART Station (Market St at 4th St)   \n",
       "1779301                           23rd St at San Bruno Ave   \n",
       "1312237                          Mississippi St at 17th St   \n",
       "918017                      Natoma St at New Montgomery St   \n",
       "1735994                          Morrison Ave at Julian St   \n",
       "2350057                               Post St at Kearny St   \n",
       "158626   San Francisco Caltrain Station 2  (Townsend St...   \n",
       "36968                                Townsend St at 5th St   \n",
       "\n",
       "         end_station_latitude  end_station_longitude  bike_id   user_type  \n",
       "2004007             37.794231            -122.402923     5816  Subscriber  \n",
       "2403386             37.871719            -122.273068      477  Subscriber  \n",
       "596265              37.789677            -122.390428     2262    Customer  \n",
       "2054230             37.756708            -122.421025    11622    Customer  \n",
       "1936790             37.776639            -122.395526     5973  Subscriber  \n",
       "832918              37.764765            -122.420091     4803    Customer  \n",
       "278203              37.780955            -122.399749      861  Subscriber  \n",
       "1471175             37.794231            -122.402923     6713  Subscriber  \n",
       "918729              37.775235            -122.397437    11532  Subscriber  \n",
       "310119              37.795392            -122.394203      437  Subscriber  \n",
       "1726665             37.808848            -122.249680     3050  Subscriber  \n",
       "1914748             37.778999            -122.436861     6358  Subscriber  \n",
       "2221830             37.781074            -122.411738     3296  Subscriber  \n",
       "314099              37.865847            -122.267443     3467  Subscriber  \n",
       "1103229             37.862464            -122.264791    11328  Subscriber  \n",
       "2153122             37.776598            -122.395282    10249  Subscriber  \n",
       "1613460             37.786928            -122.398113     3733  Subscriber  \n",
       "2392282             37.786375            -122.404904     1506    Customer  \n",
       "1779301             37.754436            -122.404364     4929  Subscriber  \n",
       "1312237             37.764802            -122.394771     1249  Subscriber  \n",
       "918017              37.786553            -122.399607     3717  Subscriber  \n",
       "1735994             37.333658            -121.908586     1289  Subscriber  \n",
       "2350057             37.788975            -122.403452      966  Subscriber  \n",
       "158626              37.776639            -122.395526     2931  Subscriber  \n",
       "36968               37.775235            -122.397437      764  Subscriber  "
      ]
     },
     "execution_count": 4,
     "metadata": {},
     "output_type": "execute_result"
    }
   ],
   "source": [
    "# a random sample of 25 for a better insight\n",
    "df.sample(25)"
   ]
  },
  {
   "cell_type": "code",
   "execution_count": 5,
   "metadata": {},
   "outputs": [
    {
     "data": {
      "text/plain": [
       "(2407259, 13)"
      ]
     },
     "execution_count": 5,
     "metadata": {},
     "output_type": "execute_result"
    }
   ],
   "source": [
    "df.shape"
   ]
  },
  {
   "cell_type": "code",
   "execution_count": 6,
   "metadata": {},
   "outputs": [
    {
     "name": "stdout",
     "output_type": "stream",
     "text": [
      "<class 'pandas.core.frame.DataFrame'>\n",
      "RangeIndex: 2407259 entries, 0 to 2407258\n",
      "Data columns (total 13 columns):\n",
      " #   Column                   Non-Null Count    Dtype  \n",
      "---  ------                   --------------    -----  \n",
      " 0   duration_sec             2407259 non-null  int64  \n",
      " 1   start_time               2407259 non-null  object \n",
      " 2   end_time                 2407259 non-null  object \n",
      " 3   start_station_id         2407259 non-null  float64\n",
      " 4   start_station_name       2407259 non-null  object \n",
      " 5   start_station_latitude   2407259 non-null  float64\n",
      " 6   start_station_longitude  2407259 non-null  float64\n",
      " 7   end_station_id           2407259 non-null  float64\n",
      " 8   end_station_name         2407259 non-null  object \n",
      " 9   end_station_latitude     2407259 non-null  float64\n",
      " 10  end_station_longitude    2407259 non-null  float64\n",
      " 11  bike_id                  2407259 non-null  int64  \n",
      " 12  user_type                2407259 non-null  object \n",
      "dtypes: float64(6), int64(2), object(5)\n",
      "memory usage: 238.8+ MB\n"
     ]
    }
   ],
   "source": [
    "# to check missing values and data types\n",
    "df.info(null_counts = True)"
   ]
  },
  {
   "cell_type": "markdown",
   "metadata": {},
   "source": [
    "As can be seen there are **no null values** in dataset. However, the start_time and end_time featues are of **object**(strings) type instead of **datatime** object. It will be handled in cleaning and transformation section."
   ]
  },
  {
   "cell_type": "code",
   "execution_count": 7,
   "metadata": {},
   "outputs": [
    {
     "data": {
      "text/html": [
       "<div>\n",
       "<style scoped>\n",
       "    .dataframe tbody tr th:only-of-type {\n",
       "        vertical-align: middle;\n",
       "    }\n",
       "\n",
       "    .dataframe tbody tr th {\n",
       "        vertical-align: top;\n",
       "    }\n",
       "\n",
       "    .dataframe thead th {\n",
       "        text-align: right;\n",
       "    }\n",
       "</style>\n",
       "<table border=\"1\" class=\"dataframe\">\n",
       "  <thead>\n",
       "    <tr style=\"text-align: right;\">\n",
       "      <th></th>\n",
       "      <th>duration_sec</th>\n",
       "      <th>start_station_id</th>\n",
       "      <th>start_station_latitude</th>\n",
       "      <th>start_station_longitude</th>\n",
       "      <th>end_station_id</th>\n",
       "      <th>end_station_latitude</th>\n",
       "      <th>end_station_longitude</th>\n",
       "      <th>bike_id</th>\n",
       "    </tr>\n",
       "  </thead>\n",
       "  <tbody>\n",
       "    <tr>\n",
       "      <th>count</th>\n",
       "      <td>2.407259e+06</td>\n",
       "      <td>2.407259e+06</td>\n",
       "      <td>2.407259e+06</td>\n",
       "      <td>2.407259e+06</td>\n",
       "      <td>2.407259e+06</td>\n",
       "      <td>2.407259e+06</td>\n",
       "      <td>2.407259e+06</td>\n",
       "      <td>2.407259e+06</td>\n",
       "    </tr>\n",
       "    <tr>\n",
       "      <th>mean</th>\n",
       "      <td>8.048171e+02</td>\n",
       "      <td>1.462493e+02</td>\n",
       "      <td>3.776938e+01</td>\n",
       "      <td>-1.223547e+02</td>\n",
       "      <td>1.424856e+02</td>\n",
       "      <td>3.776852e+01</td>\n",
       "      <td>-1.223505e+02</td>\n",
       "      <td>9.290408e+03</td>\n",
       "    </tr>\n",
       "    <tr>\n",
       "      <th>std</th>\n",
       "      <td>1.910718e+03</td>\n",
       "      <td>1.221971e+02</td>\n",
       "      <td>1.034811e-01</td>\n",
       "      <td>1.607865e-01</td>\n",
       "      <td>1.213367e+02</td>\n",
       "      <td>2.244698e-01</td>\n",
       "      <td>6.650935e-01</td>\n",
       "      <td>5.046242e+04</td>\n",
       "    </tr>\n",
       "    <tr>\n",
       "      <th>min</th>\n",
       "      <td>6.000000e+01</td>\n",
       "      <td>3.000000e+00</td>\n",
       "      <td>0.000000e+00</td>\n",
       "      <td>-1.224952e+02</td>\n",
       "      <td>3.000000e+00</td>\n",
       "      <td>0.000000e+00</td>\n",
       "      <td>-1.224952e+02</td>\n",
       "      <td>4.000000e+00</td>\n",
       "    </tr>\n",
       "    <tr>\n",
       "      <th>25%</th>\n",
       "      <td>3.580000e+02</td>\n",
       "      <td>4.700000e+01</td>\n",
       "      <td>3.777003e+01</td>\n",
       "      <td>-1.224130e+02</td>\n",
       "      <td>4.200000e+01</td>\n",
       "      <td>3.777041e+01</td>\n",
       "      <td>-1.224116e+02</td>\n",
       "      <td>1.877000e+03</td>\n",
       "    </tr>\n",
       "    <tr>\n",
       "      <th>50%</th>\n",
       "      <td>5.690000e+02</td>\n",
       "      <td>1.040000e+02</td>\n",
       "      <td>3.778053e+01</td>\n",
       "      <td>-1.223984e+02</td>\n",
       "      <td>1.010000e+02</td>\n",
       "      <td>3.778076e+01</td>\n",
       "      <td>-1.223981e+02</td>\n",
       "      <td>3.727000e+03</td>\n",
       "    </tr>\n",
       "    <tr>\n",
       "      <th>75%</th>\n",
       "      <td>8.830000e+02</td>\n",
       "      <td>2.420000e+02</td>\n",
       "      <td>3.779539e+01</td>\n",
       "      <td>-1.222948e+02</td>\n",
       "      <td>2.390000e+02</td>\n",
       "      <td>3.779625e+01</td>\n",
       "      <td>-1.222948e+02</td>\n",
       "      <td>7.171000e+03</td>\n",
       "    </tr>\n",
       "    <tr>\n",
       "      <th>max</th>\n",
       "      <td>8.623000e+04</td>\n",
       "      <td>4.980000e+02</td>\n",
       "      <td>4.551000e+01</td>\n",
       "      <td>0.000000e+00</td>\n",
       "      <td>4.980000e+02</td>\n",
       "      <td>4.551000e+01</td>\n",
       "      <td>0.000000e+00</td>\n",
       "      <td>9.984300e+05</td>\n",
       "    </tr>\n",
       "  </tbody>\n",
       "</table>\n",
       "</div>"
      ],
      "text/plain": [
       "       duration_sec  start_station_id  start_station_latitude  \\\n",
       "count  2.407259e+06      2.407259e+06            2.407259e+06   \n",
       "mean   8.048171e+02      1.462493e+02            3.776938e+01   \n",
       "std    1.910718e+03      1.221971e+02            1.034811e-01   \n",
       "min    6.000000e+01      3.000000e+00            0.000000e+00   \n",
       "25%    3.580000e+02      4.700000e+01            3.777003e+01   \n",
       "50%    5.690000e+02      1.040000e+02            3.778053e+01   \n",
       "75%    8.830000e+02      2.420000e+02            3.779539e+01   \n",
       "max    8.623000e+04      4.980000e+02            4.551000e+01   \n",
       "\n",
       "       start_station_longitude  end_station_id  end_station_latitude  \\\n",
       "count             2.407259e+06    2.407259e+06          2.407259e+06   \n",
       "mean             -1.223547e+02    1.424856e+02          3.776852e+01   \n",
       "std               1.607865e-01    1.213367e+02          2.244698e-01   \n",
       "min              -1.224952e+02    3.000000e+00          0.000000e+00   \n",
       "25%              -1.224130e+02    4.200000e+01          3.777041e+01   \n",
       "50%              -1.223984e+02    1.010000e+02          3.778076e+01   \n",
       "75%              -1.222948e+02    2.390000e+02          3.779625e+01   \n",
       "max               0.000000e+00    4.980000e+02          4.551000e+01   \n",
       "\n",
       "       end_station_longitude       bike_id  \n",
       "count           2.407259e+06  2.407259e+06  \n",
       "mean           -1.223505e+02  9.290408e+03  \n",
       "std             6.650935e-01  5.046242e+04  \n",
       "min            -1.224952e+02  4.000000e+00  \n",
       "25%            -1.224116e+02  1.877000e+03  \n",
       "50%            -1.223981e+02  3.727000e+03  \n",
       "75%            -1.222948e+02  7.171000e+03  \n",
       "max             0.000000e+00  9.984300e+05  "
      ]
     },
     "execution_count": 7,
     "metadata": {},
     "output_type": "execute_result"
    }
   ],
   "source": [
    "# to get a picture of range of values in each feature\n",
    "df.describe()"
   ]
  },
  {
   "cell_type": "code",
   "execution_count": 8,
   "metadata": {},
   "outputs": [
    {
     "data": {
      "text/plain": [
       "0"
      ]
     },
     "execution_count": 8,
     "metadata": {},
     "output_type": "execute_result"
    }
   ],
   "source": [
    "# look for duplicates\n",
    "df.duplicated().sum()"
   ]
  },
  {
   "cell_type": "markdown",
   "metadata": {},
   "source": [
    "**no duplicates** found"
   ]
  },
  {
   "cell_type": "code",
   "execution_count": 9,
   "metadata": {},
   "outputs": [
    {
     "data": {
      "text/plain": [
       "duration_sec               0\n",
       "start_time                 0\n",
       "end_time                   0\n",
       "start_station_id           0\n",
       "start_station_name         0\n",
       "start_station_latitude     0\n",
       "start_station_longitude    0\n",
       "end_station_id             0\n",
       "end_station_name           0\n",
       "end_station_latitude       0\n",
       "end_station_longitude      0\n",
       "bike_id                    0\n",
       "user_type                  0\n",
       "dtype: int64"
      ]
     },
     "execution_count": 9,
     "metadata": {},
     "output_type": "execute_result"
    }
   ],
   "source": [
    "# look for NaN values\n",
    "df.isna().sum()"
   ]
  },
  {
   "cell_type": "markdown",
   "metadata": {},
   "source": [
    "**no NaN value** found. :)"
   ]
  },
  {
   "cell_type": "markdown",
   "metadata": {},
   "source": [
    "<a id='clean'></a>\n",
    "## 2.2. Data Cleaning and Transformation"
   ]
  },
  {
   "cell_type": "code",
   "execution_count": 10,
   "metadata": {},
   "outputs": [],
   "source": [
    "# create a copy for cleaning\n",
    "df_new = df.copy()"
   ]
  },
  {
   "cell_type": "code",
   "execution_count": 11,
   "metadata": {},
   "outputs": [],
   "source": [
    "# convert object type to datetime in start and end time\n",
    "df_new['start_time'] = pd.to_datetime(df_new['start_time'])\n",
    "df_new['end_time'] = pd.to_datetime(df_new['end_time'])"
   ]
  },
  {
   "cell_type": "code",
   "execution_count": 12,
   "metadata": {},
   "outputs": [],
   "source": [
    "# convert duration in minutes\n",
    "df_new['duration_min'] = df_new['duration_sec'] / 60\n",
    "df_new['duration_min'] = df_new['duration_min'].astype(int)"
   ]
  },
  {
   "cell_type": "code",
   "execution_count": 13,
   "metadata": {},
   "outputs": [
    {
     "name": "stdout",
     "output_type": "stream",
     "text": [
      "<class 'pandas.core.frame.DataFrame'>\n",
      "RangeIndex: 2407259 entries, 0 to 2407258\n",
      "Data columns (total 14 columns):\n",
      " #   Column                   Non-Null Count    Dtype         \n",
      "---  ------                   --------------    -----         \n",
      " 0   duration_sec             2407259 non-null  int64         \n",
      " 1   start_time               2407259 non-null  datetime64[ns]\n",
      " 2   end_time                 2407259 non-null  datetime64[ns]\n",
      " 3   start_station_id         2407259 non-null  float64       \n",
      " 4   start_station_name       2407259 non-null  object        \n",
      " 5   start_station_latitude   2407259 non-null  float64       \n",
      " 6   start_station_longitude  2407259 non-null  float64       \n",
      " 7   end_station_id           2407259 non-null  float64       \n",
      " 8   end_station_name         2407259 non-null  object        \n",
      " 9   end_station_latitude     2407259 non-null  float64       \n",
      " 10  end_station_longitude    2407259 non-null  float64       \n",
      " 11  bike_id                  2407259 non-null  int64         \n",
      " 12  user_type                2407259 non-null  object        \n",
      " 13  duration_min             2407259 non-null  int64         \n",
      "dtypes: datetime64[ns](2), float64(6), int64(3), object(3)\n",
      "memory usage: 257.1+ MB\n"
     ]
    }
   ],
   "source": [
    "df_new.info(null_counts=True)"
   ]
  },
  {
   "cell_type": "code",
   "execution_count": 14,
   "metadata": {},
   "outputs": [],
   "source": [
    "# month of start timestamp of rides\n",
    "df_new['start_month'] = df_new['start_time'].dt.strftime('%B')\n",
    "# weekdays of start timestamp of rides\n",
    "df_new['start_weekday'] = df_new['start_time'].dt.strftime('%A')\n",
    "# start time hour of start timestamp of rides\n",
    "df_new['start_hour'] = df_new['start_time'].dt.hour"
   ]
  },
  {
   "cell_type": "code",
   "execution_count": 38,
   "metadata": {},
   "outputs": [],
   "source": [
    "weekdays = ['Monday','Tuesday','Wednesday','Thursday','Friday','Saturday', 'Sunday']\n",
    "months = ['January', 'February', 'March', 'April', 'May', 'June', 'July', 'August', 'September', 'October', 'November', 'December']\n",
    "\n",
    "# set user type, month and weekday as ordinal categorical variable\n",
    "\n",
    "df_new['user_type'] = pd.Categorical(df_new['user_type'], categories = ['Subscriber', 'Customer'], ordered = True)\n",
    "\n",
    "df_new['start_month'] = pd.Categorical(df_new['start_month'], categories = months, ordered = True)\n",
    "\n",
    "df_new['start_weekday'] = pd.Categorical(df_new['start_weekday'], categories=weekdays, ordered=True)"
   ]
  },
  {
   "cell_type": "code",
   "execution_count": 16,
   "metadata": {},
   "outputs": [
    {
     "data": {
      "text/html": [
       "<div>\n",
       "<style scoped>\n",
       "    .dataframe tbody tr th:only-of-type {\n",
       "        vertical-align: middle;\n",
       "    }\n",
       "\n",
       "    .dataframe tbody tr th {\n",
       "        vertical-align: top;\n",
       "    }\n",
       "\n",
       "    .dataframe thead th {\n",
       "        text-align: right;\n",
       "    }\n",
       "</style>\n",
       "<table border=\"1\" class=\"dataframe\">\n",
       "  <thead>\n",
       "    <tr style=\"text-align: right;\">\n",
       "      <th></th>\n",
       "      <th>duration_sec</th>\n",
       "      <th>start_time</th>\n",
       "      <th>end_time</th>\n",
       "      <th>start_station_id</th>\n",
       "      <th>start_station_name</th>\n",
       "      <th>start_station_latitude</th>\n",
       "      <th>start_station_longitude</th>\n",
       "      <th>end_station_id</th>\n",
       "      <th>end_station_name</th>\n",
       "      <th>end_station_latitude</th>\n",
       "      <th>end_station_longitude</th>\n",
       "      <th>bike_id</th>\n",
       "      <th>user_type</th>\n",
       "      <th>duration_min</th>\n",
       "      <th>start_month</th>\n",
       "      <th>start_weekday</th>\n",
       "      <th>start_hour</th>\n",
       "    </tr>\n",
       "  </thead>\n",
       "  <tbody>\n",
       "    <tr>\n",
       "      <th>0</th>\n",
       "      <td>81695</td>\n",
       "      <td>2019-06-30 18:16:09.773</td>\n",
       "      <td>2019-07-01 16:57:45.592</td>\n",
       "      <td>109.0</td>\n",
       "      <td>17th St at Valencia St</td>\n",
       "      <td>37.763316</td>\n",
       "      <td>-122.421904</td>\n",
       "      <td>56.0</td>\n",
       "      <td>Koshland Park</td>\n",
       "      <td>37.773414</td>\n",
       "      <td>-122.427317</td>\n",
       "      <td>1502</td>\n",
       "      <td>Subscriber</td>\n",
       "      <td>1361</td>\n",
       "      <td>June</td>\n",
       "      <td>Sunday</td>\n",
       "      <td>18</td>\n",
       "    </tr>\n",
       "    <tr>\n",
       "      <th>1</th>\n",
       "      <td>74260</td>\n",
       "      <td>2019-06-30 18:09:55.830</td>\n",
       "      <td>2019-07-01 14:47:36.681</td>\n",
       "      <td>50.0</td>\n",
       "      <td>2nd St at Townsend St</td>\n",
       "      <td>37.780526</td>\n",
       "      <td>-122.390288</td>\n",
       "      <td>101.0</td>\n",
       "      <td>15th St at Potrero Ave</td>\n",
       "      <td>37.767079</td>\n",
       "      <td>-122.407359</td>\n",
       "      <td>2526</td>\n",
       "      <td>Customer</td>\n",
       "      <td>1237</td>\n",
       "      <td>June</td>\n",
       "      <td>Sunday</td>\n",
       "      <td>18</td>\n",
       "    </tr>\n",
       "    <tr>\n",
       "      <th>2</th>\n",
       "      <td>59603</td>\n",
       "      <td>2019-06-30 15:40:31.038</td>\n",
       "      <td>2019-07-01 08:13:54.349</td>\n",
       "      <td>23.0</td>\n",
       "      <td>The Embarcadero at Steuart St</td>\n",
       "      <td>37.791464</td>\n",
       "      <td>-122.391034</td>\n",
       "      <td>30.0</td>\n",
       "      <td>San Francisco Caltrain (Townsend St at 4th St)</td>\n",
       "      <td>37.776598</td>\n",
       "      <td>-122.395282</td>\n",
       "      <td>2427</td>\n",
       "      <td>Subscriber</td>\n",
       "      <td>993</td>\n",
       "      <td>June</td>\n",
       "      <td>Sunday</td>\n",
       "      <td>15</td>\n",
       "    </tr>\n",
       "    <tr>\n",
       "      <th>3</th>\n",
       "      <td>67932</td>\n",
       "      <td>2019-06-30 12:49:47.781</td>\n",
       "      <td>2019-07-01 07:42:00.543</td>\n",
       "      <td>169.0</td>\n",
       "      <td>Bushrod Park</td>\n",
       "      <td>37.846516</td>\n",
       "      <td>-122.265304</td>\n",
       "      <td>248.0</td>\n",
       "      <td>Telegraph Ave at Ashby Ave</td>\n",
       "      <td>37.855956</td>\n",
       "      <td>-122.259795</td>\n",
       "      <td>1261</td>\n",
       "      <td>Customer</td>\n",
       "      <td>1132</td>\n",
       "      <td>June</td>\n",
       "      <td>Sunday</td>\n",
       "      <td>12</td>\n",
       "    </tr>\n",
       "    <tr>\n",
       "      <th>4</th>\n",
       "      <td>48894</td>\n",
       "      <td>2019-06-30 17:21:00.055</td>\n",
       "      <td>2019-07-01 06:55:54.996</td>\n",
       "      <td>15.0</td>\n",
       "      <td>San Francisco Ferry Building (Harry Bridges Pl...</td>\n",
       "      <td>37.795392</td>\n",
       "      <td>-122.394203</td>\n",
       "      <td>30.0</td>\n",
       "      <td>San Francisco Caltrain (Townsend St at 4th St)</td>\n",
       "      <td>37.776598</td>\n",
       "      <td>-122.395282</td>\n",
       "      <td>1070</td>\n",
       "      <td>Customer</td>\n",
       "      <td>814</td>\n",
       "      <td>June</td>\n",
       "      <td>Sunday</td>\n",
       "      <td>17</td>\n",
       "    </tr>\n",
       "  </tbody>\n",
       "</table>\n",
       "</div>"
      ],
      "text/plain": [
       "   duration_sec              start_time                end_time  \\\n",
       "0         81695 2019-06-30 18:16:09.773 2019-07-01 16:57:45.592   \n",
       "1         74260 2019-06-30 18:09:55.830 2019-07-01 14:47:36.681   \n",
       "2         59603 2019-06-30 15:40:31.038 2019-07-01 08:13:54.349   \n",
       "3         67932 2019-06-30 12:49:47.781 2019-07-01 07:42:00.543   \n",
       "4         48894 2019-06-30 17:21:00.055 2019-07-01 06:55:54.996   \n",
       "\n",
       "   start_station_id                                 start_station_name  \\\n",
       "0             109.0                             17th St at Valencia St   \n",
       "1              50.0                              2nd St at Townsend St   \n",
       "2              23.0                      The Embarcadero at Steuart St   \n",
       "3             169.0                                       Bushrod Park   \n",
       "4              15.0  San Francisco Ferry Building (Harry Bridges Pl...   \n",
       "\n",
       "   start_station_latitude  start_station_longitude  end_station_id  \\\n",
       "0               37.763316              -122.421904            56.0   \n",
       "1               37.780526              -122.390288           101.0   \n",
       "2               37.791464              -122.391034            30.0   \n",
       "3               37.846516              -122.265304           248.0   \n",
       "4               37.795392              -122.394203            30.0   \n",
       "\n",
       "                                 end_station_name  end_station_latitude  \\\n",
       "0                                   Koshland Park             37.773414   \n",
       "1                          15th St at Potrero Ave             37.767079   \n",
       "2  San Francisco Caltrain (Townsend St at 4th St)             37.776598   \n",
       "3                      Telegraph Ave at Ashby Ave             37.855956   \n",
       "4  San Francisco Caltrain (Townsend St at 4th St)             37.776598   \n",
       "\n",
       "   end_station_longitude  bike_id   user_type  duration_min start_month  \\\n",
       "0            -122.427317     1502  Subscriber          1361        June   \n",
       "1            -122.407359     2526    Customer          1237        June   \n",
       "2            -122.395282     2427  Subscriber           993        June   \n",
       "3            -122.259795     1261    Customer          1132        June   \n",
       "4            -122.395282     1070    Customer           814        June   \n",
       "\n",
       "  start_weekday  start_hour  \n",
       "0        Sunday          18  \n",
       "1        Sunday          18  \n",
       "2        Sunday          15  \n",
       "3        Sunday          12  \n",
       "4        Sunday          17  "
      ]
     },
     "execution_count": 16,
     "metadata": {},
     "output_type": "execute_result"
    }
   ],
   "source": [
    "df_new.head()"
   ]
  },
  {
   "cell_type": "code",
   "execution_count": 17,
   "metadata": {},
   "outputs": [
    {
     "name": "stdout",
     "output_type": "stream",
     "text": [
      "<class 'pandas.core.frame.DataFrame'>\n",
      "RangeIndex: 2407259 entries, 0 to 2407258\n",
      "Data columns (total 17 columns):\n",
      " #   Column                   Non-Null Count    Dtype         \n",
      "---  ------                   --------------    -----         \n",
      " 0   duration_sec             2407259 non-null  int64         \n",
      " 1   start_time               2407259 non-null  datetime64[ns]\n",
      " 2   end_time                 2407259 non-null  datetime64[ns]\n",
      " 3   start_station_id         2407259 non-null  float64       \n",
      " 4   start_station_name       2407259 non-null  object        \n",
      " 5   start_station_latitude   2407259 non-null  float64       \n",
      " 6   start_station_longitude  2407259 non-null  float64       \n",
      " 7   end_station_id           2407259 non-null  float64       \n",
      " 8   end_station_name         2407259 non-null  object        \n",
      " 9   end_station_latitude     2407259 non-null  float64       \n",
      " 10  end_station_longitude    2407259 non-null  float64       \n",
      " 11  bike_id                  2407259 non-null  int64         \n",
      " 12  user_type                2407259 non-null  category      \n",
      " 13  duration_min             2407259 non-null  int64         \n",
      " 14  start_month              2407259 non-null  category      \n",
      " 15  start_weekday            2407259 non-null  category      \n",
      " 16  start_hour               2407259 non-null  int64         \n",
      "dtypes: category(3), datetime64[ns](2), float64(6), int64(4), object(2)\n",
      "memory usage: 264.0+ MB\n"
     ]
    }
   ],
   "source": [
    "# final overview of data\n",
    "df_new.info(null_counts=True)"
   ]
  },
  {
   "cell_type": "code",
   "execution_count": 39,
   "metadata": {},
   "outputs": [],
   "source": [
    "# save to a new file for future use \n",
    "df_new.to_csv('master_dataset_mk2.csv', index=False)"
   ]
  },
  {
   "cell_type": "markdown",
   "metadata": {},
   "source": [
    "### What is the structure of your dataset?\n",
    "\n",
    "**Ans:** The dataset was collected from January 2019 through December 2019. Dataset documents almost 2,500,000 rides in the San Francisco Bay area.\n",
    "\n",
    "1. The various features in dataset are as follows:\n",
    "\n",
    "    - Ride Duration in seconds\n",
    "    - Start Timestamp\n",
    "    - End Timestamp\n",
    "    - Start Station ID and name\n",
    "    - Start Station coordinates in latitude and longitude\n",
    "    - End Station ID and name\n",
    "    - End Station coordinates in latitude and longitude\n",
    "    - Bike ID\n",
    "    - User Type(Subscriber or Customer)\n",
    "    \n",
    "    \n",
    "2. Additional feturess derived as result of transformation and cleaning:\n",
    "\n",
    "    - Start Time Hour\n",
    "    - Start Time Weekday\n",
    "    - Start Time Month\t\n",
    "    - Ride duration in minutes\n",
    "\n",
    "### What is/are the main feature(s) of interest in your dataset?\n",
    "\n",
    "**Ans:** the main features in Dataset are:\n",
    "\n",
    "- Ride duration in minutes\n",
    "- Bike ID\n",
    "- Start time's hour, day, weekday and month \n",
    "- User Type(Subscribe or customer)\n",
    "\n",
    "### What features in the dataset do you think will help support your investigation into your feature(s) of interest?\n",
    "\n",
    "**Ans:** Featues to support investigation:\n",
    "\n",
    "- **Ride duration** to check do people use bikes for long\n",
    "- **Start time's hour** to see at which time of day demand for bikes are at peak.\n",
    "- **Start time's weekday** to see at which time of day demand for bikes are at peak.\n",
    "- **Start time's month** to see at which time demand for bikes are at peak throughout year.\n",
    "- **user type** to check if being a subscriber or casual customer makes any difference in how often one uses share service.\n"
   ]
  },
  {
   "cell_type": "markdown",
   "metadata": {},
   "source": [
    "<a id='explore'></a>\n",
    "# 3. Exploration"
   ]
  },
  {
   "cell_type": "markdown",
   "metadata": {},
   "source": [
    "<a id='uni'></a>\n",
    "## 3.1. Univariate Exploration\n",
    "----------------------------------"
   ]
  },
  {
   "cell_type": "code",
   "execution_count": 19,
   "metadata": {},
   "outputs": [
    {
     "data": {
      "image/png": "[encoded data removed]",
      "text/plain": [
       "<Figure size 720x360 with 1 Axes>"
      ]
     },
     "metadata": {
      "needs_background": "light"
     },
     "output_type": "display_data"
    }
   ],
   "source": [
    "# usage on different months of year 2019\n",
    "base_color = sb.color_palette()[0]\n",
    "plt.figure(figsize = [10, 5])\n",
    "months = list(df_new['start_month'].unique())\n",
    "cat_order1 = df_new['start_month'].value_counts().index\n",
    "sb.countplot(data = df_new, x = 'start_month', color = base_color, order = cat_order1);\n",
    "plt.xticks(rotation = 40);\n",
    "plt.xlabel('Month');\n",
    "plt.ylabel('Number of Rides');\n",
    "plt.title('Usage based on Months', y=1.1, fontsize=16, fontweight='semibold');"
   ]
  },
  {
   "cell_type": "markdown",
   "metadata": {},
   "source": [
    "Overall share system is used most in months of *March, October and April* and least in *December*(maybe due to winter)."
   ]
  },
  {
   "cell_type": "code",
   "execution_count": 20,
   "metadata": {},
   "outputs": [
    {
     "data": {
      "image/png": "[encoded data removed]",
      "text/plain": [
       "<Figure size 504x504 with 1 Axes>"
      ]
     },
     "metadata": {
      "needs_background": "light"
     },
     "output_type": "display_data"
    }
   ],
   "source": [
    "# usage on different weekdays\n",
    "plt.figure(figsize = [7, 7])\n",
    "\n",
    "weekdays = ['Monday','Tuesday','Wednesday','Thursday','Friday','Saturday', 'Sunday']\n",
    "cat_order2 = df_new['start_weekday'].value_counts().index\n",
    "sb.countplot(data = df_new, x = 'start_weekday', color = base_color, order = cat_order2);\n",
    "plt.xticks(rotation = 40);\n",
    "plt.xlabel('Day of Week');\n",
    "plt.ylabel('Number of Rides');\n",
    "plt.title('Usage based on Weekdays', y = 1.1, fontsize = 16, fontweight = 'semibold');"
   ]
  },
  {
   "cell_type": "markdown",
   "metadata": {},
   "source": [
    "Overall share system is used most in on weekdays and with a significant drop on weekends. We can infer that rides are used mostly for office commute."
   ]
  },
  {
   "cell_type": "code",
   "execution_count": 21,
   "metadata": {},
   "outputs": [
    {
     "data": {
      "text/plain": [
       "count    2.407259e+06\n",
       "mean     1.292218e+01\n",
       "std      3.184651e+01\n",
       "min      1.000000e+00\n",
       "50%      9.000000e+00\n",
       "99%      6.800000e+01\n",
       "max      1.437000e+03\n",
       "Name: duration_min, dtype: float64"
      ]
     },
     "execution_count": 21,
     "metadata": {},
     "output_type": "execute_result"
    }
   ],
   "source": [
    "# to check for most common values for ride duration, so that outliers are not plotted\n",
    "df_new['duration_min'].describe(percentiles = [0.99])"
   ]
  },
  {
   "cell_type": "code",
   "execution_count": 22,
   "metadata": {},
   "outputs": [
    {
     "data": {
      "image/png": "[encoded data removed]",
      "text/plain": [
       "<Figure size 720x504 with 1 Axes>"
      ]
     },
     "metadata": {
      "needs_background": "light"
     },
     "output_type": "display_data"
    }
   ],
   "source": [
    "plt.figure(figsize = [10, 7])\n",
    "\n",
    "bins1 = np.arange(0, 70+1, 1)\n",
    "ticks = [t for t in range(0, 70+1, 5)]\n",
    "labels = [val for val in ticks]\n",
    "\n",
    "plt.hist(data = df_new, x = 'duration_min', bins = bins1, rwidth = 0.8);\n",
    "\n",
    "plt.title('Ride Duration in Minutes', y = 1.1, fontsize=16, fontweight = 'semibold')\n",
    "plt.xlabel('Duration in min.')\n",
    "plt.xticks(ticks, labels);\n",
    "plt.ylabel('no. of rides');\n"
   ]
  },
  {
   "cell_type": "markdown",
   "metadata": {},
   "source": [
    "Ride durations are on average usually 4 to 15 minutes long. Also, rides are mostly don't last more than 40 minutes, but there are few exceptions."
   ]
  },
  {
   "cell_type": "code",
   "execution_count": 23,
   "metadata": {},
   "outputs": [
    {
     "data": {
      "image/png": "[encoded data removed]",
      "text/plain": [
       "<Figure size 720x360 with 1 Axes>"
      ]
     },
     "metadata": {
      "needs_background": "light"
     },
     "output_type": "display_data"
    }
   ],
   "source": [
    "# show bar charts in terms of proportions\n",
    "plt.figure(figsize = [10, 5])\n",
    "# get proportion taken by most common group for derivation of tick marks\n",
    "n_points = df_new.shape[0]\n",
    "max_count = df_new['start_hour'].value_counts().max()\n",
    "max_prop = max_count / n_points\n",
    "\n",
    "# generate tick mark locations and names\n",
    "tick_props = np.arange(0, max_prop + 0.05, 0.05)\n",
    "tick_names = ['{:0.2f}'.format(v) for v in tick_props]\n",
    "\n",
    "# 3. create the plot\n",
    "sb.countplot(data = df_new, x = 'start_hour', color = base_color)\n",
    "plt.yticks(tick_props * n_points, tick_names);\n",
    "plt.ylabel('hour');\n",
    "plt.ylabel('proportion');\n",
    "plt.title(\" Proprtion of rides at different  Trip Duration in Minutes\", y = 1.1, fontsize = 14);"
   ]
  },
  {
   "cell_type": "markdown",
   "metadata": {},
   "source": [
    "The system is used more often between **7AM** and **9AM** and between **4PM** and **6PM**. Maybe people use bikes to go and come back from offices and work areas."
   ]
  },
  {
   "cell_type": "markdown",
   "metadata": {},
   "source": [
    "### Discuss the distribution(s) of your variable(s) of interest. Were there any unusual points? Did you need to perform any transformations?\n",
    "\n",
    "> There were no major outliers and other problems in distribution statistics of features due to thorough and mindful cleaning of dataset and transformation done. The only problem I faced was that the largest ride duration was about 1.437e+3 minutes which is roughly eqaul to 24 hours or 1 day. \n",
    "\n",
    "> Also the original ride duration were in seconds leading to very large values. I created another column for durations in minutes. Also it is tedious to extract hour, weekday and month information from timestamp for each plot. Hence I created seperate columns for these quantities.  \n",
    "\n",
    "### Of the features you investigated, were there any unusual distributions? Did you perform any operations on the data to tidy, adjust, or change the form of the data? If so, why did you do this?\n",
    "\n",
    "> The distribution of the ride duration had outliers where largest duration was about 1.437e+3 minutes which is roughly eqaul to 24 hours or 1 day. I observed around 99% of rides were between 1 and 68 minutes. This prompted me to removed ride durations greater than 68 minutes."
   ]
  },
  {
   "cell_type": "markdown",
   "metadata": {},
   "source": [
    "<a id='bi'></a>\n",
    "## 3.2. Bivariate Exploration\n",
    "\n",
    "--------------------------------------------"
   ]
  },
  {
   "cell_type": "code",
   "execution_count": 24,
   "metadata": {},
   "outputs": [
    {
     "data": {
      "image/png": "[encoded data removed]",
      "text/plain": [
       "<Figure size 360x360 with 1 Axes>"
      ]
     },
     "metadata": {
      "needs_background": "light"
     },
     "output_type": "display_data"
    }
   ],
   "source": [
    "# number of Users in each user type\n",
    "plt.figure(figsize=[5, 5])\n",
    "orders = df_new.user_type.value_counts().index\n",
    "sb.countplot(data = df_new, x='user_type', order=orders);\n",
    "plt.xlabel('User Type');\n",
    "plt.ylabel('No. of Users');\n",
    "plt.title('Number of Users in each User type', fontsize = 16, y = 1.1, fontweight='semibold');"
   ]
  },
  {
   "cell_type": "markdown",
   "metadata": {},
   "source": [
    "The Bike sharing system is used more often by *subscribers* than *casual customers*."
   ]
  },
  {
   "cell_type": "code",
   "execution_count": 25,
   "metadata": {},
   "outputs": [
    {
     "data": {
      "text/plain": [
       "<Figure size 1440x720 with 0 Axes>"
      ]
     },
     "metadata": {},
     "output_type": "display_data"
    },
    {
     "data": {
      "image/png": "[encoded data removed]",
      "text/plain": [
       "<Figure size 720x360 with 2 Axes>"
      ]
     },
     "metadata": {
      "needs_background": "light"
     },
     "output_type": "display_data"
    }
   ],
   "source": [
    "# Number of rides in across different durations\n",
    "plt.figure(figsize = [20, 10])\n",
    "\n",
    "data = df_new.query('duration_min < 31')\n",
    "\n",
    "g = sb.catplot(data = data, x = 'duration_min', col = 'user_type', kind = 'count', color = base_color);\n",
    "\n",
    "g.set_titles(col_template = '{col_name}');\n",
    "g.set_axis_labels('duration in minutes', 'no. of rides');\n",
    "g.fig.suptitle('Number of rides in across different durations', fontsize = 16, y = 1.1, fontweight='semibold');\n"
   ]
  },
  {
   "cell_type": "markdown",
   "metadata": {},
   "source": [
    "The bike sharing service is used more by subscribers but the ride durations on average are a bit longer for casual customers (4 to 15 minutes) than for subscribers (3 to 10 minutes)."
   ]
  },
  {
   "cell_type": "code",
   "execution_count": 26,
   "metadata": {},
   "outputs": [
    {
     "data": {
      "image/png": "[encoded data removed]",
      "text/plain": [
       "<Figure size 720x360 with 1 Axes>"
      ]
     },
     "metadata": {
      "needs_background": "light"
     },
     "output_type": "display_data"
    }
   ],
   "source": [
    "# usage by hour\n",
    "plt.figure(figsize = [10, 5])\n",
    "\n",
    "ct_count = df_new.groupby(['start_hour', 'user_type']).size()\n",
    "ct_count = ct_count.reset_index()\n",
    "sb.pointplot(data=ct_count, x = 'start_hour',  hue = 'user_type', y = 0);\n",
    "plt.xticks(rotation = 40)\n",
    "plt.xlabel('Months')\n",
    "plt.ylabel('no. of Rides');\n",
    "plt.title('Usage by Hour of Day', y = 1.1, fontsize = 14, fontweight = 'semibold');"
   ]
  },
  {
   "cell_type": "markdown",
   "metadata": {},
   "source": [
    "For **Subscribers**, large number of bike sharing happens between **7AM** and **9AM** and between **4PM** and **7PM**. \n",
    "\n",
    "For ***casual customers***, large number of bike sharing happens between **8AM** and **6PM**."
   ]
  },
  {
   "cell_type": "code",
   "execution_count": 27,
   "metadata": {},
   "outputs": [
    {
     "data": {
      "image/png": "[encoded data removed]",
      "text/plain": [
       "<Figure size 720x360 with 1 Axes>"
      ]
     },
     "metadata": {
      "needs_background": "light"
     },
     "output_type": "display_data"
    }
   ],
   "source": [
    "# usage by weekdays\n",
    "\n",
    "plt.figure(figsize = [10, 5])\n",
    "\n",
    "ct_count = df_new.groupby(['start_weekday', 'user_type']).size()\n",
    "ct_count = ct_count.reset_index()\n",
    "sb.pointplot(data=ct_count, x = 'start_weekday',  hue = 'user_type', y = 0);\n",
    "plt.xlabel('Weekdays')\n",
    "plt.ylabel('no. of Rides');\n",
    "plt.title('Usage by Weekday', y = 1.1, fontsize = 14, fontweight = 'semibold');"
   ]
  },
  {
   "cell_type": "markdown",
   "metadata": {},
   "source": [
    "The bike sharing system was used more often by subscribers on weekdays with a significant drop on weekends. No such trend was observed for casual customers where number of rides remains relatively constant. We can infer that bike sharing is used more often by subscribers for daily commute to offices and workspaces. "
   ]
  },
  {
   "cell_type": "code",
   "execution_count": 28,
   "metadata": {},
   "outputs": [
    {
     "data": {
      "image/png": "[encoded data removed]",
      "text/plain": [
       "<Figure size 720x360 with 1 Axes>"
      ]
     },
     "metadata": {
      "needs_background": "light"
     },
     "output_type": "display_data"
    }
   ],
   "source": [
    "# usage by month\n",
    "plt.figure(figsize = [10, 5])\n",
    "\n",
    "ct_count = df_new.groupby(['start_month', 'user_type']).size()\n",
    "ct_count = ct_count.reset_index()\n",
    "# weekdays = list(df_new['start_time_month'].unique())\n",
    "sb.pointplot(data=ct_count, x = 'start_month',  hue = 'user_type', y = 0);\n",
    "plt.xticks(rotation = 40)\n",
    "plt.xlabel('Months')\n",
    "plt.ylabel('no. of Rides');\n",
    "plt.title('Usage by Month', y = 1.1, fontsize = 14, fontweight = 'semibold');"
   ]
  },
  {
   "cell_type": "markdown",
   "metadata": {},
   "source": [
    "The bike share system was used more often by subscribers in months of March, October and April with a drop in usage from October to January(maybe due to winter). Casual customers use bike sharing more in months of December and October."
   ]
  },
  {
   "cell_type": "markdown",
   "metadata": {},
   "source": [
    "### Talk about some of the relationships you observed in this part of the investigation. How did the feature(s) of interest vary with other features in the dataset?\n",
    "\n",
    "> In these analysis we included the **user_type** feature. \n",
    "- We observed that bike sharing usage patterns were different for subscribers and casual users. For Subscribers, large number of bike sharing happens between 7AM and 9AM and between 4PM and 7PM. For casual customers, large number of bike sharing happens between 8AM and 6PM. \n",
    "- The bike sharing system was used more often by subscribers on weekdays with a significant drop on weekends. No such trend was observed for casual customers where number of rides remains relatively constant. We can infer that bike sharing is used by subscribers for daily commute to offices and workspaces. \n",
    "\n",
    "\n",
    "### Did you observe any interesting relationships between the other features (not the main feature(s) of interest)?\n",
    "\n",
    "\n",
    "> - The bike sharing service is used more by subscribers but the ride durations on average are a bit longer for casual customers (4 to 15 minutes) than for subscribers (3 to 10 minutes).\n",
    "- The bike share system was used more often by subscribers in months of March, October and April with a drop in usage from October to January(maybe due to winter). Casual customers use bike sharing more in months of December and October."
   ]
  },
  {
   "cell_type": "markdown",
   "metadata": {},
   "source": [
    "<a id='multi'></a>\n",
    "## 3.3. Multivariate Exploration\n",
    "------------------------------\n"
   ]
  },
  {
   "cell_type": "code",
   "execution_count": 29,
   "metadata": {},
   "outputs": [
    {
     "data": {
      "image/png": "[encoded data removed]",
      "text/plain": [
       "<Figure size 720x360 with 1 Axes>"
      ]
     },
     "metadata": {
      "needs_background": "light"
     },
     "output_type": "display_data"
    }
   ],
   "source": [
    "# weekly usage per user type\n",
    "plt.figure(figsize = [10, 5])\n",
    "g = sb.countplot(data=df_new, x='start_weekday', hue=\"user_type\") \n",
    "plt.xticks(rotation = 40);\n",
    "plt.xlabel('Weekday');\n",
    "plt.ylabel('No. of Rides')\n",
    "plt.title(\"weekly usage per user type\", y = 1.1, fontsize = 14, fontweight = 'semibold');"
   ]
  },
  {
   "cell_type": "markdown",
   "metadata": {},
   "source": [
    "The bike sharing system was used more often by subscribers on weekdays with a significant drop on weekends. No such trend was observed for casual customers where number of rides remains relatively constant. We can infer that bike sharing is used more often by subscribers for daily commute to offices and workspaces."
   ]
  },
  {
   "cell_type": "code",
   "execution_count": 40,
   "metadata": {},
   "outputs": [
    {
     "data": {
      "image/png": "[encoded data removed]",
      "text/plain": [
       "<Figure size 720x360 with 1 Axes>"
      ]
     },
     "metadata": {
      "needs_background": "light"
     },
     "output_type": "display_data"
    }
   ],
   "source": [
    "# Duration of bike rides on different weekdays usage for different user types\n",
    "plt.figure(figsize = [10, 5])\n",
    "\n",
    "ax = sb.barplot(data = df_new, x = \"start_weekday\", y = \"duration_min\", hue = \"user_type\");\n",
    "plt.xlabel('Weekday');\n",
    "plt.ylabel('Duration of Rides in minutes')\n",
    "plt.title(\"Duration of rides on different weekdays per user type\", y = 1.1, fontsize = 16, fontweight = 'semibold');"
   ]
  },
  {
   "cell_type": "markdown",
   "metadata": {},
   "source": [
    "It can be seen that casual customers use bike sharing for longer durations (18-20 minutes during weekdays and 27-30 minutes during weekends) than subscribers(who ride for around 10 minutes on weekdays and 12 minutes on weekends). This difference is significant during weekends. "
   ]
  },
  {
   "cell_type": "code",
   "execution_count": 37,
   "metadata": {},
   "outputs": [
    {
     "data": {
      "image/png": "[encoded data removed]",
      "text/plain": [
       "<Figure size 1080x720 with 4 Axes>"
      ]
     },
     "metadata": {
      "needs_background": "light"
     },
     "output_type": "display_data"
    }
   ],
   "source": [
    "plt.figure(figsize = [15,10])\n",
    "\n",
    "plt.suptitle('Weekly Usage at different hours per user type', fontweight = 'semibold', fontsize = 18);\n",
    "\n",
    "# plot heatmap for customer\n",
    "plt.subplot(1, 2, 1)\n",
    "ct_count1 = df_new.query(\"user_type == 'Customer'\").groupby(['start_hour', 'start_weekday'])['bike_id'].size() \n",
    "ct_count1 = ct_count1.reset_index()\n",
    "ct_count1 = ct_count1.pivot(index = \"start_hour\", columns = \"start_weekday\", values = \"bike_id\")\n",
    "sb.heatmap(ct_count1, cmap='GnBu')\n",
    "plt.xlabel('Weekday');\n",
    "plt.ylabel('Start Time Hour');\n",
    "plt.xticks(rotation = 40)\n",
    "plt.yticks(rotation = 0)\n",
    "plt.title(\"Customer\", fontweight = 'semibold');\n",
    "\n",
    "# plot heatmap for subscriber\n",
    "plt.subplot(1, 2, 2)\n",
    "ct_count2 = df_new.query(\"user_type == 'Subscriber'\").groupby(['start_hour', 'start_weekday'])['bike_id'].size()\n",
    "ct_count2 = ct_count2.reset_index()\n",
    "ct_count2 = ct_count2.pivot(index = 'start_hour', columns = 'start_weekday', values = 'bike_id')\n",
    "sb.heatmap(ct_count2, cmap='GnBu')\n",
    "plt.xlabel('Weekday');\n",
    "plt.ylabel('Start Time Hour');\n",
    "plt.xticks(rotation = 40)\n",
    "plt.yticks(rotation = 0)\n",
    "plt.title('Subscriber', fontweight = 'semibold');\n",
    "\n",
    "plt.subplots_adjust(wspace = 0.5)\n"
   ]
  },
  {
   "cell_type": "markdown",
   "metadata": {},
   "source": [
    "This plot summarizes many things at once.\n",
    "\n",
    "First we can see that ***subscribers*** use the bike sharing system mainly on *weekdays*. Large number of bike sharing happens between **7AM** and **9AM** and between **4PM** and **7PM**. Number of bike sharing is at peak on **Tuesday at 8AM** where more than 45,000 subscribers using it. There is significant drop on weekends with number of rides between 10,000 and 15,000 .\n",
    "\n",
    "Second,  we can see that ***casual customers*** use the bike sharing system on *weekdays* as well as on *weekends*. But the timings differ between weekdays and weekends. During weekdays, large number of bike sharing happens between **7AM** and **9AM** and between **4PM** and **7PM**. Number of bike sharing is at peak on **Tuesday at 8AM and 5PM** where more than 7,000 customers using it. During weekends number of bike rides is at more between **10AM** and **6PM**."
   ]
  },
  {
   "cell_type": "code",
   "execution_count": 41,
   "metadata": {},
   "outputs": [
    {
     "data": {
      "image/png": "[encoded data removed]",
      "text/plain": [
       "<Figure size 720x360 with 1 Axes>"
      ]
     },
     "metadata": {
      "needs_background": "light"
     },
     "output_type": "display_data"
    }
   ],
   "source": [
    "# number of rides across different durations per user type\n",
    "plt.figure(figsize = [10, 5])\n",
    "\n",
    "df_cust = df_new.query(\"user_type == 'Customer'\")\n",
    "df_cust = df_cust.query(\"duration_min < 41\")\n",
    "\n",
    "df_subs = df_new.query(\"user_type == 'Subscriber'\")\n",
    "df_subs = df_subs.query(\"duration_min < 41\")\n",
    "\n",
    "bins = np.arange(0, 41, 1)\n",
    "plt.hist(data = df_subs, x = 'duration_min', bins = bins, alpha = 0.6, label = 'subscriber');\n",
    "plt.hist(data = df_cust, x = 'duration_min', bins = bins, alpha = 0.6, label = 'customer');\n",
    "plt.xlabel('duration in minutes');\n",
    "plt.ylabel('no. of rides');\n",
    "plt.title('Number of rides across different durations per user type', y = 1.1, fontweight = 'semibold', fontsize = 16);\n",
    "plt.legend(loc = 'upper right');"
   ]
  },
  {
   "cell_type": "markdown",
   "metadata": {},
   "source": [
    "The bike sharing service is **used more by subscribers** but the *ride durations* on average are a bit **longer for casual customers** (4 to 20 minutes) than for subscribers (3 to 12 minutes)."
   ]
  },
  {
   "cell_type": "markdown",
   "metadata": {},
   "source": [
    "### Talk about some of the relationships you observed in this part of the investigation. Were there features that strengthened each other in terms of looking at your feature(s) of interest?\n",
    "\n",
    "\n",
    "> - Subscribers use bike sharing mainly on weekdays and there is significant drop in number of rides on weekends. We can also see that casual customers use the bike sharing system on *weekdays* as well as on *weekends* alike.\n",
    "- The service is used more by Subscribers with high numbers between 7AM and 9AM and between 4PM and 7PM on weekdays. \n",
    "- The service is used less frequently by casual customers with high numbers between 7AM and 9AM on weekdays and between  10AM and 6PM on weekends.\n",
    "\n",
    "\n",
    "### Were there any interesting or surprising interactions between features?\n",
    "\n",
    "> Even though subscribers use bike sharing **more often**, they use it for **shorter** durations(3 to 12 minutes). Whereas, **customers** use the sharing service for **longer** durations(4 to 20 minutes). "
   ]
  },
  {
   "cell_type": "markdown",
   "metadata": {},
   "source": [
    "> At the end of your report, make sure that you export the notebook as an\n",
    "html file from the `File > Download as... > HTML` menu. Make sure you keep\n",
    "track of where the exported file goes, so you can put it in the same folder\n",
    "as this notebook for project submission. Also, make sure you remove all of\n",
    "the quote-formatted guide notes like this one before you finish your report!"
   ]
  },
  {
   "cell_type": "code",
   "execution_count": null,
   "metadata": {},
   "outputs": [],
   "source": []
  }
 ],
 "metadata": {
  "kernelspec": {
   "display_name": "Python [conda env:root] *",
   "language": "python",
   "name": "conda-root-py"
  },
  "language_info": {
   "codemirror_mode": {
    "name": "ipython",
    "version": 3
   },
   "file_extension": ".py",
   "mimetype": "text/x-python",
   "name": "python",
   "nbconvert_exporter": "python",
   "pygments_lexer": "ipython3",
   "version": "3.7.7"
  }
 },
 "nbformat": 4,
 "nbformat_minor": 2
}
